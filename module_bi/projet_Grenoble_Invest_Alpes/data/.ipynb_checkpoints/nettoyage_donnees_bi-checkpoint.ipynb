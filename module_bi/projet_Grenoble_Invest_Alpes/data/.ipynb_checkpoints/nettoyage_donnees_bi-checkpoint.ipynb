{
 "cells": [
  {
   "cell_type": "markdown",
   "id": "5ae0fe41",
   "metadata": {},
   "source": [
    "# 🧼 Nettoyage des fichiers de données bruts – Projet BI"
   ]
  },
  {
   "cell_type": "code",
   "execution_count": null,
   "id": "f8df75c8",
   "metadata": {},
   "outputs": [],
   "source": [
    "import pandas as pd\n",
    "import os\n",
    "dossier_source = '/home/Inoth/Documents/work/module_bi/projet_Grenoble_Invest_Alpes/data'"
   ]
  },
  {
   "cell_type": "code",
   "execution_count": null,
   "id": "37dead09",
   "metadata": {},
   "outputs": [],
   "source": [
    "# 🔄 Nettoyage de : BASE ENTREPRISES FILIERES CLES_iiidata.xlsx\n",
    "df = pd.read_excel(os.path.join(dossier_source, \"BASE ENTREPRISES FILIERES CLES_iiidata.xlsx\"))\n",
    "df.columns = df.columns.str.strip().str.lower().str.replace(' ', '_').str.replace(\"'\", '')\n",
    "df.to_csv(os.path.join(dossier_source, \"base_entreprises_clean.csv\"), index=False)\n",
    "df.head()"
   ]
  },
  {
   "cell_type": "code",
   "execution_count": null,
   "id": "0cd8e2fe",
   "metadata": {},
   "outputs": [],
   "source": [
    "# 🔄 Nettoyage de : donnees_deveco.xlsx\n",
    "df = pd.read_excel(os.path.join(dossier_source, \"donnees_deveco.xlsx\"))\n",
    "df.columns = df.columns.str.strip().str.lower().str.replace(' ', '_').str.replace(\"'\", '')\n",
    "df.to_csv(os.path.join(dossier_source, \"donnees_deveco_clean.csv\"), index=False)\n",
    "df.head()"
   ]
  },
  {
   "cell_type": "code",
   "execution_count": null,
   "id": "cd8a9cb1",
   "metadata": {},
   "outputs": [],
   "source": [
    "# 🔄 Nettoyage de : Cat juridiq II.csv\n",
    "df = pd.read_csv(os.path.join(dossier_source, \"Cat juridiq II.csv\"))\n",
    "df.columns = df.columns.str.strip().str.lower().str.replace(' ', '_').str.replace(\"'\", '')\n",
    "df.to_csv(os.path.join(dossier_source, \"cat_juridique_clean.csv\"), index=False)\n",
    "df.head()"
   ]
  },
  {
   "cell_type": "code",
   "execution_count": null,
   "id": "85c5b1c8",
   "metadata": {},
   "outputs": [],
   "source": [
    "# 🔄 Nettoyage de : Perimetre economique.xlsx\n",
    "df = pd.read_excel(os.path.join(dossier_source, \"Perimetre economique.xlsx\"))\n",
    "df.columns = df.columns.str.strip().str.lower().str.replace(' ', '_').str.replace(\"'\", '')\n",
    "df.to_csv(os.path.join(dossier_source, \"perimetre_economique_clean.csv\"), index=False)\n",
    "df.head()"
   ]
  },
  {
   "cell_type": "code",
   "execution_count": null,
   "id": "2755a81d",
   "metadata": {},
   "outputs": [],
   "source": [
    "# 🔄 Nettoyage de : Perimetre geographique.xlsx\n",
    "df = pd.read_excel(os.path.join(dossier_source, \"Perimetre geographique.xlsx\"))\n",
    "df.columns = df.columns.str.strip().str.lower().str.replace(' ', '_').str.replace(\"'\", '')\n",
    "df.to_csv(os.path.join(dossier_source, \"perimetre_geographique_clean.csv\"), index=False)\n",
    "df.head()"
   ]
  },
  {
   "cell_type": "code",
   "execution_count": null,
   "id": "eb214ef6",
   "metadata": {},
   "outputs": [],
   "source": [
    "# 🔄 Nettoyage de : Perimetre juridique.xls\n",
    "df = pd.read_excel(os.path.join(dossier_source, \"Perimetre juridique.xls\"))\n",
    "df.columns = df.columns.str.strip().str.lower().str.replace(' ', '_').str.replace(\"'\", '')\n",
    "df.to_csv(os.path.join(dossier_source, \"perimetre_juridique_clean.csv\"), index=False)\n",
    "df.head()"
   ]
  }
 ],
 "metadata": {},
 "nbformat": 4,
 "nbformat_minor": 5
}
